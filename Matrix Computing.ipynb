{
 "cells": [
  {
   "cell_type": "code",
   "execution_count": 1,
   "metadata": {},
   "outputs": [],
   "source": [
    "import numpy as np \n",
    "import matplotlib.pyplot as plt"
   ]
  },
  {
   "attachments": {
    "image.png": {
     "image/png": "[encoded data removed]"
    }
   },
   "cell_type": "markdown",
   "metadata": {},
   "source": [
    "![image.png](attachment:image.png)\n",
    "\n",
    "Task: Given weights $(W_1, W_2)$ and lengths $(L_1, L_2, L_3)$, find the angles assumed by the strings and determine the tensions exerted by them. \n",
    "\n",
    "To solve this problem, we will apply Newton's first law and combine it with the constraints of the physical geometry of the system to derive a system of equations we can attempt to solve for the configuration of the system. \n",
    "\n",
    "**Geometric Constraints** \n",
    "\\begin{align}\n",
    "    &L_1\\cos\\theta_1 + L_2\\cos\\theta_2 + L_3\\cos\\theta_3 = L \\\\\n",
    "    &L_1\\sin\\theta_1 + L_2\\sin\\theta_2 + L_3\\sin\\theta_3 = 0 \\\\ \n",
    "    &sin^2\\theta_1+\\cos^2\\theta_1 = 1 \\\\\n",
    "    &sin^2\\theta_2+\\cos^2\\theta_2 = 1 \\\\\n",
    "    &sin^2\\theta_3+\\cos^2\\theta_3 = 1 \n",
    "\\end{align}\n",
    "\n",
    "**Physics (Newton's 1st)**\n",
    "\\begin{align}\n",
    "    &T_1\\sin\\theta_1-T_2\\sin\\theta_2-W_1 = 0 \\\\ \n",
    "    &T_1\\cos\\theta_1-T_2\\cos\\theta_2 = 0 \\\\ \n",
    "    &T_2\\sin\\theta_2 + T_3\\sin\\theta_3 - W_2 = 0\\\\\n",
    "    &T_2\\cos\\theta_2 - T_3\\cos\\theta_3 = 0\n",
    "\\end{align}\n",
    "\n",
    "Considering that Linear Algebra is a great tool for solving *linear equations*, we note that if we consider $\\sin\\theta_i$ and $\\cos\\theta_i$ as independent variables, then we can attempt to formulate our equations into a linear system, i.e. if we take\n",
    "\\begin{equation}\n",
    "    \\vec{x} = \\begin{pmatrix}\n",
    "        \\sin\\theta_1 \\\\ \n",
    "        \\sin\\theta_2 \\\\ \n",
    "        \\sin\\theta_3 \\\\ \n",
    "        \\cos\\theta_1 \\\\\n",
    "        \\cos\\theta_2 \\\\ \n",
    "        \\cos\\theta_3 \\\\ \n",
    "        T_1 \\\\ \n",
    "        T_2 \\\\ \n",
    "        T_3 \n",
    "    \\end{pmatrix}\n",
    "\\end{equation}\n",
    "Then, we have the system \n",
    "\\begin{equation}\n",
    "    f(\\vec{x}) = \\vec{0}\n",
    "\\end{equation}\n",
    "\n",
    "Unfortunately, a few of the equations are nonlinear as they involve combinations of angles *and* tensions. To deal with this, we can guess an approximate solution $\\{x_i\\}$ such that there exists a set of corrections $\\{\\Delta x_i\\}$ which allow us to satisfy the system, i.e.\n",
    "\\begin{equation}\n",
    "    f\\left(\\vec{x}+\\vec{\\Delta x}\\right) = \\vec{0}\n",
    "\\end{equation}\n",
    "or in terms of the $i^{th}$ equation, \n",
    "\\begin{equation}\n",
    "    f_i(x_1+\\Delta x_1, x_2+\\Delta x_2, \\dots, x_9 + \\Delta x_9) = 0\n",
    "\\end{equation}\n",
    "\n",
    "If the initial guess is good enough then the corrections are only a small perturbation and can be solved by using the multivariable Taylor series expansion to $f_i$: \n",
    "\\begin{equation}\n",
    "    f_i(x_1+\\Delta x_1, \\dots, x_9+\\Delta x_9) \\approx f_i(x_1,\\dots,x_9) + \\sum_{j=1}^{9}\\frac{\\partial f_i}{\\partial x_j}\\Delta x_j = 0\n",
    "\\end{equation}\n",
    "\n",
    "The partial derivatives form a matrix and thus, we now have a linear system given by \n",
    "\\begin{equation}\n",
    "    \\vec{f}+F'\\vec{\\Delta x} = \\vec{0}\n",
    "\\end{equation}\n",
    "which for a given set of $x_i's$ leads to the correction vector given by \n",
    "\\begin{equation}\n",
    "    \\vec{\\Delta x} = -F'^{-1}\\vec{f}\n",
    "\\end{equation}\n",
    "\n",
    "to save further time, we can use an approximation for the partial derivatives using a finite difference scheme, e.g.\n",
    "\\begin{equation}\n",
    "    \\frac{\\partial f_i}{\\partial x_j} \\approx \\frac{f_i(x_j+\\delta x_j) - f_i(x_j)}{\\delta x_j}\n",
    "\\end{equation}\n",
    "\n",
    "Since all that matters is that we *move towards the correct solution*, the fact that this is not the analytic form for the deriviative does not matter"
   ]
  },
  {
   "cell_type": "markdown",
   "metadata": {},
   "source": [
    "# Numpy's linalg package\n",
    "\n",
    "To solve general matrix equations formulated in python, we can use Numpy! For example, the standard matrix equation \n",
    "\\begin{equation}\n",
    "    A\\vec{x} = \\vec{b}\n",
    "\\end{equation}\n",
    "can be solved as follows: "
   ]
  },
  {
   "cell_type": "code",
   "execution_count": 6,
   "metadata": {},
   "outputs": [
    {
     "name": "stdout",
     "output_type": "stream",
     "text": [
      "A= [[  1   2   3]\n",
      " [ 22  32  42]\n",
      " [ 55  66 100]]\n",
      "b= [1 2 3]\n"
     ]
    }
   ],
   "source": [
    "from numpy.linalg import * \n",
    "\n",
    "\n",
    "A = np.array([[1, 2, 3], [22, 32, 42], [55, 66, 100]])\n",
    "print('A=', A) \n",
    "\n",
    "b = np.array([1, 2, 3])\n",
    "print('b=', b)\n",
    "\n"
   ]
  },
  {
   "cell_type": "code",
   "execution_count": 15,
   "metadata": {},
   "outputs": [
    {
     "name": "stdout",
     "output_type": "stream",
     "text": [
      "x =  [-1.4057971  -0.1884058   0.92753623]\n",
      "Residual = [2.22044605e-16 0.00000000e+00 0.00000000e+00]\n"
     ]
    }
   ],
   "source": [
    "x = solve(A, b)\n",
    "print('x = ', x)\n",
    "\n",
    "print('Residual =', np.dot(A, x)-b)"
   ]
  },
  {
   "cell_type": "code",
   "execution_count": 16,
   "metadata": {},
   "outputs": [
    {
     "name": "stdout",
     "output_type": "stream",
     "text": [
      "[[ 1.00000000e+00 -2.77555756e-17 -1.38777878e-17]\n",
      " [-4.44089210e-15  1.00000000e+00 -3.05311332e-16]\n",
      " [-1.77635684e-15  3.33066907e-16  1.00000000e+00]]\n",
      "x = [-1.4057971  -0.1884058   0.92753623]\n"
     ]
    }
   ],
   "source": [
    "# We can also solve the same equation by computing the inverse to A\n",
    "\n",
    "print(np.dot(A, inv(A)))\n",
    "\n",
    "print('x =', np.dot(inv(A), b))"
   ]
  },
  {
   "cell_type": "markdown",
   "metadata": {},
   "source": [
    "The next type of equation to solve is an eigenvalue equation. For example: the principle axes for a cube are the solutions to an eigenvalue equation of the form \n",
    "\\begin{equation}\n",
    "I\\vec{\\omega} = \\lambda\\omega \n",
    "\\end{equation}\n"
   ]
  },
  {
   "cell_type": "code",
   "execution_count": 22,
   "metadata": {},
   "outputs": [
    {
     "name": "stdout",
     "output_type": "stream",
     "text": [
      "I=\n",
      " [[ 0.66666667 -0.25      ]\n",
      " [-0.25        1.33333333]]\n",
      "Eigenvalues:  [0.58333333 1.41666667]\n",
      "Eigenvectors:  [[-0.9486833   0.31622777]\n",
      " [-0.31622777 -0.9486833 ]]\n"
     ]
    }
   ],
   "source": [
    "I = np.array([[2/3, -1/4],[-1/4, 4/3]])\n",
    "print('I=\\n', I)\n",
    "\n",
    "eig_vals, eig_vecs = eig(I) \n",
    "print('Eigenvalues: ', eig_vals)\n",
    "print('Eigenvectors: ', eig_vecs)"
   ]
  },
  {
   "cell_type": "code",
   "execution_count": null,
   "metadata": {},
   "outputs": [],
   "source": []
  }
 ],
 "metadata": {
  "kernelspec": {
   "display_name": "Python 3",
   "language": "python",
   "name": "python3"
  },
  "language_info": {
   "codemirror_mode": {
    "name": "ipython",
    "version": 3
   },
   "file_extension": ".py",
   "mimetype": "text/x-python",
   "name": "python",
   "nbconvert_exporter": "python",
   "pygments_lexer": "ipython3",
   "version": "3.8.2"
  }
 },
 "nbformat": 4,
 "nbformat_minor": 2
}
