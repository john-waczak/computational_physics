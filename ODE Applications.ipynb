{
 "cells": [
  {
   "cell_type": "code",
   "execution_count": 1,
   "metadata": {},
   "outputs": [],
   "source": [
    "import numpy as np \n",
    "import matplotlib.pyplot as plt"
   ]
  },
  {
   "cell_type": "markdown",
   "metadata": {},
   "source": [
    "# Problem 1: Quantum Eigenvalues in an Arbitrary Potential (Solving eigenvalue problems)\n",
    "\n",
    "Consider the Energy-Eigenvalue equation of Quantum Mechanics in 1-dimension. \n",
    "\\begin{equation}\n",
    "    -\\frac{\\hbar^2}{2m}\\frac{d^2\\psi}{dx^2} + V(x)\\psi = E\\psi\n",
    "\\end{equation}\n",
    "\n",
    "The added crinkle that makes this an eigenvalue problem is that we must find specifically those energies that satisfy the added boundary condition\n",
    "\\begin{equation}\n",
    "    \\lim_{x\\to\\pm\\infty}\\psi(x) = 0\n",
    "\\end{equation}"
   ]
  },
  {
   "cell_type": "markdown",
   "metadata": {},
   "source": [
    "For our purposes, we will first construct a finite square well (FSW) potential of the form\n",
    "\\begin{equation}\n",
    "    V(x) = \\begin{cases}\n",
    "        -V_0, & |x|\\leq a \\\\\n",
    "        0, & |x| \\geq a\n",
    "    \\end{cases}\n",
    "\\end{equation}"
   ]
  },
  {
   "cell_type": "markdown",
   "metadata": {},
   "source": [
    "# the Algorithm: ODE Solve + Search\n",
    "1. Start on the very far left $x = -X_{max}\\approx -\\infty$, where $X_{max}>>a$. Because $V=0$ here, the analystic solution can be approximated to the asymptotic form $\\psi(x)= e^{\\pm kx}$. Accordingly, assume that the wavefuntion satisfies $\\psi_{L}(-X_{max}) = e^{-kX_{max}}$. \n",
    "\n",
    "2. Use your favorite ODESolver to extend the solution until the \"matching radius\" $x_{match}$ which we might choose to be $x_{max}=+a$ here. \n",
    "\n",
    "3. Start at the other extreme $x=+X_{max}\\approx\\infty$ where our wavefunction can be assumed to satisfy $\\psi_{R}(X_{max})=e^{-kX_{max}}$\n",
    "\n",
    "4. Use your ODESolver to step $\\psi_R(x)$ in toward the origin (to the left) from $x=+X_{max}$ unitil you reach the matching radius $x_{match}$. \n",
    "\n",
    "5. In order for probability to continuous and finite in a given range, we requre that both $\\psi(x)$ and $\\psi'(x)$ be continuous at the matching radius. This can be encapsulated in requiring the so-called *logarithmic derivative* $\\psi'(x)/\\psi(x)$ be continuous there.\n",
    "\n",
    "6. Although we do not presuppose which values of $E$ are eigenvalues,we still need a starting value for the energy in order to use our ODE solver. Such being the case, we start the solution with a good guess for the energy. A good guess for the ground-state energy is a value slightly above the bottom of the well, e.g. $E_{gs} >-V_0$. \n",
    "\n",
    "7. Because it is unlikely that your guess is correct, the left and right wave functions will not be expected to match at $x_{match}$. Using the amount of *mismatch* as measured by the difference in logarithmic derative, we can come up with a correction: \n",
    "\\begin{equation}\n",
    "    \\Delta(E, x) = \\frac{\\psi_L'(x)/\\psi_L(x)-\\psi_R'(x)/\\psi_R(x)}{\\psi_L'(x)/\\psi_L(x)+\\psi_R'(x)/\\psi_R(x)}\n",
    "\\end{equation}\n",
    "Where the denominator is included to avoid overly large/small. This measure gives us a way to intelligently form our next guess. We will continue the search unitl the left and right logarithmic derivative match to within some set tolerance. "
   ]
  },
  {
   "cell_type": "markdown",
   "metadata": {},
   "source": [
    "The Schrodinger energy-eigenvalue equation can be cast into two simultaneous ODE's as follows\n",
    "\\begin{align}\n",
    "    \\frac{d^2\\psi}{dx^2} &= \\frac{2m}{\\hbar^2}\\left(V(x)-E\\right)\\psi(x) \\\\ \n",
    "    &\\Big\\Downarrow \\\\ \n",
    "    \\frac{d\\phi^{(0)}}{dx} &= \\phi^{(1)} \\\\ \n",
    "    \\frac{d\\phi^{(1)}}{dx} &= \\frac{2m}{\\hbar^2}(V(x)-E)\\phi^{(0)}\n",
    "\\end{align}\n"
   ]
  },
  {
   "cell_type": "code",
   "execution_count": 67,
   "metadata": {},
   "outputs": [],
   "source": [
    "# first, let us define the fourth order Runge-Kutta scheme so that \n",
    "# we can use it in our integration \n",
    "\n",
    "def rk4(t, h, N, y, f): # time, time_step, dimensions, L.H.S., R.H.S.\n",
    "    k1, k2, k3, k4 = np.zeros([4, N])\n",
    "    k1 = h*f(t,y)\n",
    "    k2 = h*f(t+h/2, y+k1/2)\n",
    "    k3 = h*f(t+h/2, y+k2/2) \n",
    "    k4 = h*f(t+h, y+k3) \n",
    "    y_new = y+(k1+2*(k2+k3)+k4)/6\n",
    "    return y_new"
   ]
  },
  {
   "cell_type": "code",
   "execution_count": 69,
   "metadata": {},
   "outputs": [
    {
     "data": {
      "image/png": "[encoded data removed]",
      "text/plain": [
       "<Figure size 432x288 with 1 Axes>"
      ]
     },
     "metadata": {
      "needs_background": "light"
     },
     "output_type": "display_data"
    }
   ],
   "source": [
    "# Now define a function for the potential \n",
    "\n",
    "V0 = 10\n",
    "L = 1 \n",
    "\n",
    "def V(x): \n",
    "    Vout = np.ones_like(x) \n",
    "    Vout[np.abs(x)<=L] = -V0\n",
    "    Vout[np.abs(x)>L] = 0\n",
    "    \n",
    "    return Vout\n",
    "    \n",
    "plt.figure() \n",
    "plt.plot(np.linspace(-10, 10, 1000), V(np.linspace(-10, 10, 1000)))\n",
    "plt.show()"
   ]
  },
  {
   "cell_type": "code",
   "execution_count": 72,
   "metadata": {},
   "outputs": [
    {
     "data": {
      "text/plain": [
       "array([  1., -40.])"
      ]
     },
     "execution_count": 72,
     "metadata": {},
     "output_type": "execute_result"
    }
   ],
   "source": [
    "# now we define a function to represent hte R.H.S. of the Schrodinger ODE\n",
    "\n",
    "m = 1 \n",
    "hb = 1\n",
    "\n",
    "def f(x, phi, E): \n",
    "    Phi = np.zeros((2), float)\n",
    "    Phi[0] = phi[1] \n",
    "    Phi[1] = (2*m/(hb*hb))*(V(x)-E)*phi[0]\n",
    "    return Phi"
   ]
  },
  {
   "cell_type": "code",
   "execution_count": null,
   "metadata": {},
   "outputs": [],
   "source": [
    "# now we define how to compute the change in log derivative\n",
    "def Delta(h, E): \n",
    "    Phi = np.zeros((2), float)\n",
    "    "
   ]
  }
 ],
 "metadata": {
  "kernelspec": {
   "display_name": "Python 3",
   "language": "python",
   "name": "python3"
  },
  "language_info": {
   "codemirror_mode": {
    "name": "ipython",
    "version": 3
   },
   "file_extension": ".py",
   "mimetype": "text/x-python",
   "name": "python",
   "nbconvert_exporter": "python",
   "pygments_lexer": "ipython3",
   "version": "3.8.2"
  }
 },
 "nbformat": 4,
 "nbformat_minor": 2
}
